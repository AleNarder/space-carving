{
 "cells": [
  {
   "cell_type": "markdown",
   "metadata": {},
   "source": [
    "## Loading the dependencies"
   ]
  },
  {
   "cell_type": "code",
   "execution_count": 3,
   "metadata": {},
   "outputs": [],
   "source": [
    "import numpy as np\n",
    "import cv2 as cv\n",
    "from tqdm import tqdm"
   ]
  },
  {
   "cell_type": "markdown",
   "metadata": {},
   "source": [
    "## Declaring global constants"
   ]
  },
  {
   "cell_type": "code",
   "execution_count": 4,
   "metadata": {},
   "outputs": [],
   "source": [
    "CALIBRATION_VIDEO_PATH = '../data/calibration.mp4'\n",
    "CAM_MATRIX_PATH  = '../processed/K.npy'\n",
    "DISTORTION_PATH  = '../processed/dist.npy'\n",
    "CHECKERBOARD_WIDTH   = 9\n",
    "CHECKERBOARD_HEIGHT  = 6\n",
    "TERMINATION_CRITERIA = (cv.TERM_CRITERIA_EPS + cv.TERM_CRITERIA_MAX_ITER, 30, 0.001)"
   ]
  },
  {
   "cell_type": "markdown",
   "metadata": {},
   "source": [
    "## Performing the analysis"
   ]
  },
  {
   "cell_type": "code",
   "execution_count": 5,
   "metadata": {},
   "outputs": [],
   "source": [
    "objpoints = [] # 3d point in real world space\n",
    "imgpoints = [] # 2d points in image plane.\n",
    "\n",
    "# Coordinates of corners in the real world space\n",
    "objp = np.zeros((CHECKERBOARD_WIDTH * CHECKERBOARD_HEIGHT, 3), np.float32)\n",
    "objp[:,:2] = np.mgrid[0:CHECKERBOARD_WIDTH, 0:CHECKERBOARD_HEIGHT].T.reshape(-1,2)"
   ]
  },
  {
   "cell_type": "markdown",
   "metadata": {},
   "source": [
    "### 1. Find the mappings\n",
    "\n",
    "For each not skipped frame, we detect the chessboard corners using _findChessboardCorners_. We then save the mappings between corner projections and corner positions in 3d world space"
   ]
  },
  {
   "cell_type": "code",
   "execution_count": 19,
   "metadata": {},
   "outputs": [
    {
     "name": "stdout",
     "output_type": "stream",
     "text": [
      "Recall 0.9863013698630136\n"
     ]
    }
   ],
   "source": [
    "cap = cv.VideoCapture(CALIBRATION_VIDEO_PATH)\n",
    "\n",
    "# We will skip some frames in order to avoid calibration on similar frames\n",
    "# and speed up the calibration process\n",
    "SKIP_FRAMES  = 10\n",
    "skip_counter = SKIP_FRAMES\n",
    "\n",
    "camera_matrix = None\n",
    "\n",
    "# Recall statistics\n",
    "inspected = 0\n",
    "detected  = 0\n",
    "\n",
    "while cap.isOpened():\n",
    "    ret, frame = cap.read()\n",
    "\n",
    "\n",
    "    if not ret:\n",
    "        break\n",
    "    \n",
    "    if skip_counter == 0:\n",
    "        skip_counter = SKIP_FRAMES\n",
    "        inspected += 1\n",
    "        gray = cv.cvtColor(frame, cv.COLOR_BGR2GRAY)\n",
    "\n",
    "        if (camera_matrix == None):    \n",
    "            camera_matrix = gray.shape[::-1]\n",
    "\n",
    "        ret, corners = cv.findChessboardCorners(\n",
    "            gray,\n",
    "            (CHECKERBOARD_WIDTH, CHECKERBOARD_HEIGHT),\n",
    "            flags=cv.CALIB_CB_FAST_CHECK\n",
    "        )\n",
    "\n",
    "\n",
    "        if (ret == True):\n",
    "            detected+=1\n",
    "            objpoints.append(objp)\n",
    "            corners2 = cv.cornerSubPix(gray,corners, (11,11), (-1,-1), TERMINATION_CRITERIA)\n",
    "            imgpoints.append(corners2)\n",
    "            #cv.drawChessboardCorners(frame, (CHECKERBOARD_WIDTH, CHECKERBOARD_HEIGHT), corners2, ret)\n",
    "        else:\n",
    "            pass\n",
    "    else:\n",
    "        skip_counter-=1\n",
    "\n",
    "objpoints = np.array(objpoints)\n",
    "imgpoints = np.array(imgpoints)\n",
    "    \n",
    "print('Recall', detected / inspected)\n",
    "    \n",
    "cap.release()\n",
    "cv.destroyAllWindows()"
   ]
  },
  {
   "cell_type": "markdown",
   "metadata": {},
   "source": [
    "### 2. Recover intrinsic and distortion matrices\n",
    "\n",
    "We then recover the intrinsic and per-frame extrinsic parameters. We are only interested on the intrinsic ones"
   ]
  },
  {
   "cell_type": "code",
   "execution_count": 20,
   "metadata": {},
   "outputs": [],
   "source": [
    "ret, mtx, dist, rvecs, tvecs = cv.calibrateCamera(objpoints, imgpoints, camera_matrix, None, None, flags = cv.CALIB_USE_LU)"
   ]
  },
  {
   "cell_type": "markdown",
   "metadata": {},
   "source": [
    "### 3. Re-projection error\n",
    "\n",
    "In order to see how good our calibration is, we can calculate the absolute norm between the points projected using the recovered parameters and the ones found by the corner finding algorithm. To find the average error, we calculate the arithmetical mean of the errors calculated for all the calibration images"
   ]
  },
  {
   "cell_type": "code",
   "execution_count": 21,
   "metadata": {},
   "outputs": [
    {
     "name": "stdout",
     "output_type": "stream",
     "text": [
      "total error: 0.07953585767808856\n"
     ]
    }
   ],
   "source": [
    "mean_error = 0\n",
    "for i in range(len(objpoints)):\n",
    "    imgpoints2, _ = cv.projectPoints(objpoints[i], rvecs[i], tvecs[i], mtx, dist)\n",
    "    error = cv.norm(imgpoints[i], imgpoints2, cv.NORM_L2)/len(imgpoints2)\n",
    "    mean_error += error\n",
    "print( \"Total error: {}\".format(mean_error/len(objpoints)))"
   ]
  },
  {
   "cell_type": "markdown",
   "metadata": {},
   "source": [
    "### 4. Save the results"
   ]
  },
  {
   "cell_type": "code",
   "execution_count": null,
   "metadata": {},
   "outputs": [],
   "source": [
    "np.save(CAM_MATRIX_PATH, mtx)\n",
    "np.save(DISTORTION_PATH, dist)"
   ]
  }
 ],
 "metadata": {
  "kernelspec": {
   "display_name": "Python 3 (ipykernel)",
   "language": "python",
   "name": "python3"
  },
  "language_info": {
   "codemirror_mode": {
    "name": "ipython",
    "version": 3
   },
   "file_extension": ".py",
   "mimetype": "text/x-python",
   "name": "python",
   "nbconvert_exporter": "python",
   "pygments_lexer": "ipython3",
   "version": "3.9.15"
  }
 },
 "nbformat": 4,
 "nbformat_minor": 2
}
