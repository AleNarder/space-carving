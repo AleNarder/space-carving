{
 "cells": [
  {
   "cell_type": "code",
   "execution_count": 1,
   "metadata": {},
   "outputs": [],
   "source": [
    "import numpy as np\n",
    "import cv2 as cv\n",
    "from tqdm import tqdm"
   ]
  },
  {
   "cell_type": "code",
   "execution_count": 2,
   "metadata": {},
   "outputs": [],
   "source": [
    "CALIBRATION_VIDEO_PATH = '../data/calibration.mp4'\n",
    "CAM_MATRIX_PATH  = '../processed/K.npy'\n",
    "DISTORTION_PATH  = '../processed/dist.npy'\n",
    "CHECKERBOARD_WIDTH   = 9\n",
    "CHECKERBOARD_HEIGHT  = 6\n",
    "TERMINATION_CRITERIA = (cv.TERM_CRITERIA_EPS + cv.TERM_CRITERIA_MAX_ITER, 30, 0.001)"
   ]
  },
  {
   "cell_type": "code",
   "execution_count": 3,
   "metadata": {},
   "outputs": [],
   "source": [
    "objpoints = [] # 3d point in real world space\n",
    "imgpoints = [] # 2d points in image plane.\n",
    "\n",
    "objp = np.zeros((CHECKERBOARD_WIDTH * CHECKERBOARD_HEIGHT, 3), np.float32)\n",
    "objp[:,:2] = np.mgrid[0:CHECKERBOARD_WIDTH, 0:CHECKERBOARD_HEIGHT].T.reshape(-1,2)"
   ]
  },
  {
   "cell_type": "code",
   "execution_count": 4,
   "metadata": {},
   "outputs": [],
   "source": [
    "camera_matrix = None\n",
    "inspected = 0\n",
    "detected  = 0"
   ]
  },
  {
   "cell_type": "code",
   "execution_count": 5,
   "metadata": {},
   "outputs": [
    {
     "name": "stdout",
     "output_type": "stream",
     "text": [
      "Recall 0.9917184265010351\n",
      "479 479\n"
     ]
    }
   ],
   "source": [
    "cap = cv.VideoCapture(CALIBRATION_VIDEO_PATH)\n",
    "SKIP_FRAMES  = 4\n",
    "skip_counter = SKIP_FRAMES\n",
    "\n",
    "while cap.isOpened():\n",
    "    ret, frame = cap.read()\n",
    "\n",
    "\n",
    "    if not ret:\n",
    "        break\n",
    "    \n",
    "    if skip_counter == 0:\n",
    "        skip_counter = SKIP_FRAMES\n",
    "        inspected += 1\n",
    "        gray = cv.cvtColor(frame, cv.COLOR_BGR2GRAY)\n",
    "\n",
    "        if (camera_matrix == None):    \n",
    "            camera_matrix = gray.shape[::-1]\n",
    "\n",
    "        ret, corners = cv.findChessboardCorners(\n",
    "            gray,\n",
    "            (CHECKERBOARD_WIDTH, CHECKERBOARD_HEIGHT),\n",
    "            flags=cv.CALIB_CB_FAST_CHECK\n",
    "        )\n",
    "\n",
    "\n",
    "        if (ret == True):\n",
    "            detected+=1\n",
    "            objpoints.append(objp)\n",
    "            corners2 = cv.cornerSubPix(gray,corners, (11,11), (-1,-1), TERMINATION_CRITERIA)\n",
    "            imgpoints.append(corners2)\n",
    "            #cv.drawChessboardCorners(frame, (CHECKERBOARD_WIDTH, CHECKERBOARD_HEIGHT), corners2, ret)\n",
    "        else:\n",
    "            pass\n",
    "    else:\n",
    "        skip_counter-=1\n",
    "\n",
    "objpoints = np.array(objpoints)\n",
    "imgpoints = np.array(imgpoints)\n",
    "    \n",
    "print('Recall', detected / inspected)\n",
    "    \n",
    "cap.release()\n",
    "cv.destroyAllWindows()"
   ]
  },
  {
   "cell_type": "code",
   "execution_count": 6,
   "metadata": {},
   "outputs": [],
   "source": [
    "ret, mtx, dist, rvecs, tvecs = cv.calibrateCamera(objpoints, imgpoints, camera_matrix, None, None, flags = cv.CALIB_USE_LU)\n",
    "np.save(CAM_MATRIX_PATH, mtx)\n",
    "np.save(DISTORTION_PATH, dist)"
   ]
  }
 ],
 "metadata": {
  "kernelspec": {
   "display_name": "Python 3 (ipykernel)",
   "language": "python",
   "name": "python3"
  },
  "language_info": {
   "codemirror_mode": {
    "name": "ipython",
    "version": 3
   },
   "file_extension": ".py",
   "mimetype": "text/x-python",
   "name": "python",
   "nbconvert_exporter": "python",
   "pygments_lexer": "ipython3",
   "version": "3.9.15"
  }
 },
 "nbformat": 4,
 "nbformat_minor": 2
}
